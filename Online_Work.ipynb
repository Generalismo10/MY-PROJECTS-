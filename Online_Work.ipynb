{
 "cells": [
  {
   "cell_type": "code",
   "execution_count": 61,
   "metadata": {},
   "outputs": [],
   "source": [
    "import sys\n",
    "import pandas as pd\n",
    "import matplotlib\n",
    "import matplotlib.pyplot as plt\n",
    "import numpy as np\n",
    "import plotly .express as px\n",
    "pd.options.display.max_rows=100000\n",
    "pd.options.display.max_columns=1000\n",
    "df=pd.read_csv('salesreport.csv')\n"
   ]
  },
  {
   "cell_type": "code",
   "execution_count": 62,
   "metadata": {},
   "outputs": [
    {
     "name": "stdout",
     "output_type": "stream",
     "text": [
      "<class 'pandas.core.frame.DataFrame'>\n",
      "RangeIndex: 81 entries, 0 to 80\n",
      "Data columns (total 10 columns):\n",
      " #   Column         Non-Null Count  Dtype  \n",
      "---  ------         --------------  -----  \n",
      " 0   AREA           67 non-null     object \n",
      " 1   CUSTOMER NAME  65 non-null     object \n",
      " 2   LOCATION       68 non-null     object \n",
      " 3   PRODUCT        67 non-null     object \n",
      " 4   January        56 non-null     float64\n",
      " 5   February       55 non-null     float64\n",
      " 6   March          57 non-null     float64\n",
      " 7   April          57 non-null     float64\n",
      " 8   May            56 non-null     float64\n",
      " 9   June           57 non-null     object \n",
      "dtypes: float64(5), object(5)\n",
      "memory usage: 6.5+ KB\n"
     ]
    }
   ],
   "source": [
    "df.info()"
   ]
  },
  {
   "cell_type": "code",
   "execution_count": 63,
   "metadata": {},
   "outputs": [
    {
     "data": {
      "text/html": [
       "<div>\n",
       "<style scoped>\n",
       "    .dataframe tbody tr th:only-of-type {\n",
       "        vertical-align: middle;\n",
       "    }\n",
       "\n",
       "    .dataframe tbody tr th {\n",
       "        vertical-align: top;\n",
       "    }\n",
       "\n",
       "    .dataframe thead th {\n",
       "        text-align: right;\n",
       "    }\n",
       "</style>\n",
       "<table border=\"1\" class=\"dataframe\">\n",
       "  <thead>\n",
       "    <tr style=\"text-align: right;\">\n",
       "      <th></th>\n",
       "      <th>AREA</th>\n",
       "      <th>CUSTOMER NAME</th>\n",
       "      <th>LOCATION</th>\n",
       "      <th>PRODUCT</th>\n",
       "      <th>January</th>\n",
       "      <th>February</th>\n",
       "      <th>March</th>\n",
       "      <th>April</th>\n",
       "      <th>May</th>\n",
       "      <th>June</th>\n",
       "    </tr>\n",
       "  </thead>\n",
       "  <tbody>\n",
       "    <tr>\n",
       "      <th>0</th>\n",
       "      <td>AB</td>\n",
       "      <td>Davidson</td>\n",
       "      <td>ABA</td>\n",
       "      <td>Sanitizer</td>\n",
       "      <td>NaN</td>\n",
       "      <td>NaN</td>\n",
       "      <td>NaN</td>\n",
       "      <td>NaN</td>\n",
       "      <td>NaN</td>\n",
       "      <td></td>\n",
       "    </tr>\n",
       "    <tr>\n",
       "      <th>1</th>\n",
       "      <td>AB</td>\n",
       "      <td>Aku Resources</td>\n",
       "      <td>ABA</td>\n",
       "      <td>Perfume</td>\n",
       "      <td>19969353.68</td>\n",
       "      <td>35160366.85</td>\n",
       "      <td>36010006.80</td>\n",
       "      <td>19881860.60</td>\n",
       "      <td>33631310.03</td>\n",
       "      <td>36330943.96</td>\n",
       "    </tr>\n",
       "    <tr>\n",
       "      <th>2</th>\n",
       "      <td>AB</td>\n",
       "      <td>CHRIS AMANI</td>\n",
       "      <td>YENAGOA</td>\n",
       "      <td>Perfume</td>\n",
       "      <td>8583913.81</td>\n",
       "      <td>10011801.80</td>\n",
       "      <td>10131638.63</td>\n",
       "      <td>8433011.19</td>\n",
       "      <td>NaN</td>\n",
       "      <td>10661931.69</td>\n",
       "    </tr>\n",
       "    <tr>\n",
       "      <th>3</th>\n",
       "      <td>AB</td>\n",
       "      <td>DIVINE SUCCESS</td>\n",
       "      <td>ABA</td>\n",
       "      <td>Sanitizer</td>\n",
       "      <td>18910910.89</td>\n",
       "      <td>36016316.91</td>\n",
       "      <td>36860311.60</td>\n",
       "      <td>18860416.91</td>\n",
       "      <td>33101641.63</td>\n",
       "      <td>34404490.66</td>\n",
       "    </tr>\n",
       "    <tr>\n",
       "      <th>4</th>\n",
       "      <td>ON</td>\n",
       "      <td>Tony ng Pampcos</td>\n",
       "      <td>BENIN</td>\n",
       "      <td>Spray</td>\n",
       "      <td>16188135.63</td>\n",
       "      <td>18888910.11</td>\n",
       "      <td>19183586.66</td>\n",
       "      <td>16081199.39</td>\n",
       "      <td>10518619.93</td>\n",
       "      <td>19689915.83</td>\n",
       "    </tr>\n",
       "  </tbody>\n",
       "</table>\n",
       "</div>"
      ],
      "text/plain": [
       "  AREA    CUSTOMER NAME LOCATION    PRODUCT      January     February  \\\n",
       "0   AB         Davidson      ABA  Sanitizer          NaN          NaN   \n",
       "1   AB    Aku Resources      ABA    Perfume  19969353.68  35160366.85   \n",
       "2   AB      CHRIS AMANI  YENAGOA    Perfume   8583913.81  10011801.80   \n",
       "3   AB   DIVINE SUCCESS      ABA  Sanitizer  18910910.89  36016316.91   \n",
       "4   ON  Tony ng Pampcos    BENIN      Spray  16188135.63  18888910.11   \n",
       "\n",
       "         March        April          May         June  \n",
       "0          NaN          NaN          NaN               \n",
       "1  36010006.80  19881860.60  33631310.03  36330943.96  \n",
       "2  10131638.63   8433011.19          NaN  10661931.69  \n",
       "3  36860311.60  18860416.91  33101641.63  34404490.66  \n",
       "4  19183586.66  16081199.39  10518619.93  19689915.83  "
      ]
     },
     "execution_count": 63,
     "metadata": {},
     "output_type": "execute_result"
    }
   ],
   "source": [
    "df.head()"
   ]
  },
  {
   "cell_type": "code",
   "execution_count": 64,
   "metadata": {},
   "outputs": [
    {
     "data": {
      "text/plain": [
       "AREA             14\n",
       "CUSTOMER NAME    16\n",
       "LOCATION         13\n",
       "PRODUCT          14\n",
       "January          25\n",
       "February         26\n",
       "March            24\n",
       "April            24\n",
       "May              25\n",
       "June             24\n",
       "dtype: int64"
      ]
     },
     "execution_count": 64,
     "metadata": {},
     "output_type": "execute_result"
    }
   ],
   "source": [
    "df.isnull().sum()"
   ]
  },
  {
   "cell_type": "code",
   "execution_count": 65,
   "metadata": {},
   "outputs": [
    {
     "name": "stderr",
     "output_type": "stream",
     "text": [
      "C:\\Users\\USER\\AppData\\Local\\Temp\\ipykernel_10416\\3228858903.py:9: FutureWarning:\n",
      "\n",
      "A value is trying to be set on a copy of a DataFrame or Series through chained assignment using an inplace method.\n",
      "The behavior will change in pandas 3.0. This inplace method will never work because the intermediate object on which we are setting values always behaves as a copy.\n",
      "\n",
      "For example, when doing 'df[col].method(value, inplace=True)', try using 'df.method({col: value}, inplace=True)' or df[col] = df[col].method(value) instead, to perform the operation inplace on the original object.\n",
      "\n",
      "\n",
      "\n",
      "C:\\Users\\USER\\AppData\\Local\\Temp\\ipykernel_10416\\3228858903.py:10: FutureWarning:\n",
      "\n",
      "A value is trying to be set on a copy of a DataFrame or Series through chained assignment using an inplace method.\n",
      "The behavior will change in pandas 3.0. This inplace method will never work because the intermediate object on which we are setting values always behaves as a copy.\n",
      "\n",
      "For example, when doing 'df[col].method(value, inplace=True)', try using 'df.method({col: value}, inplace=True)' or df[col] = df[col].method(value) instead, to perform the operation inplace on the original object.\n",
      "\n",
      "\n",
      "\n",
      "C:\\Users\\USER\\AppData\\Local\\Temp\\ipykernel_10416\\3228858903.py:11: FutureWarning:\n",
      "\n",
      "A value is trying to be set on a copy of a DataFrame or Series through chained assignment using an inplace method.\n",
      "The behavior will change in pandas 3.0. This inplace method will never work because the intermediate object on which we are setting values always behaves as a copy.\n",
      "\n",
      "For example, when doing 'df[col].method(value, inplace=True)', try using 'df.method({col: value}, inplace=True)' or df[col] = df[col].method(value) instead, to perform the operation inplace on the original object.\n",
      "\n",
      "\n",
      "\n",
      "C:\\Users\\USER\\AppData\\Local\\Temp\\ipykernel_10416\\3228858903.py:12: FutureWarning:\n",
      "\n",
      "A value is trying to be set on a copy of a DataFrame or Series through chained assignment using an inplace method.\n",
      "The behavior will change in pandas 3.0. This inplace method will never work because the intermediate object on which we are setting values always behaves as a copy.\n",
      "\n",
      "For example, when doing 'df[col].method(value, inplace=True)', try using 'df.method({col: value}, inplace=True)' or df[col] = df[col].method(value) instead, to perform the operation inplace on the original object.\n",
      "\n",
      "\n",
      "\n",
      "C:\\Users\\USER\\AppData\\Local\\Temp\\ipykernel_10416\\3228858903.py:13: FutureWarning:\n",
      "\n",
      "A value is trying to be set on a copy of a DataFrame or Series through chained assignment using an inplace method.\n",
      "The behavior will change in pandas 3.0. This inplace method will never work because the intermediate object on which we are setting values always behaves as a copy.\n",
      "\n",
      "For example, when doing 'df[col].method(value, inplace=True)', try using 'df.method({col: value}, inplace=True)' or df[col] = df[col].method(value) instead, to perform the operation inplace on the original object.\n",
      "\n",
      "\n",
      "\n",
      "C:\\Users\\USER\\AppData\\Local\\Temp\\ipykernel_10416\\3228858903.py:14: FutureWarning:\n",
      "\n",
      "A value is trying to be set on a copy of a DataFrame or Series through chained assignment using an inplace method.\n",
      "The behavior will change in pandas 3.0. This inplace method will never work because the intermediate object on which we are setting values always behaves as a copy.\n",
      "\n",
      "For example, when doing 'df[col].method(value, inplace=True)', try using 'df.method({col: value}, inplace=True)' or df[col] = df[col].method(value) instead, to perform the operation inplace on the original object.\n",
      "\n",
      "\n",
      "\n"
     ]
    }
   ],
   "source": [
    "a=df['January'].mean()\n",
    "b=df['February'].mean()\n",
    "c=df['March'].mean()\n",
    "d=df['April'].mean()\n",
    "df['May']=pd.to_numeric(df['April'], errors='coerce')\n",
    "e=df['May'].mean()\n",
    "df['June']=pd.to_numeric(df['April'], errors='coerce')\n",
    "f=df['June'].mean()\n",
    "df['January'].fillna(a, inplace=True)\n",
    "df['February'].fillna(b,inplace=True)\n",
    "df['March'].fillna(c, inplace=True)\n",
    "df['April'].fillna(d, inplace=True)\n",
    "df['May'].fillna(e, inplace=True)\n",
    "df['June'].fillna(f, inplace=True)\n",
    "df.loc[6, \"AREA\"]=\"ON\"\n",
    "df.loc[39, \"AREA\"]=\"AB\"\n",
    "df.loc[7, \"CUSTOMER NAME\"]=\"Ade\"\n",
    "df.loc[28, \"CUSTOMER NAME\"]=\"Ade\"\n",
    "df.loc[54, \"CUSTOMER NAME\"]=\"Ade\"\n",
    "df.loc[42, \"CUSTOMER NAME\"]=\"Ade\"\n",
    "df.loc[40, \"LOCATION\"]=\"PORT HARCOURT\"\n",
    "df.loc[32, \"PRODUCT\"]=\"Airfreshner\"\n",
    "df.loc[37, \"PRODUCT\"]=\"Spray\"\n",
    "df.dropna (inplace=True)"
   ]
  },
  {
   "cell_type": "code",
   "execution_count": 66,
   "metadata": {},
   "outputs": [],
   "source": [
    "a=df.groupby(\"AREA\")[\"January\"].sum().sort_values(ascending=False)\n",
    "b=df.groupby(\"AREA\")[\"February\"].sum().sort_values(ascending=False)\n",
    "c=df.groupby(\"AREA\")[\"March\"].sum().sort_values(ascending=False)\n",
    "d=df.groupby(\"AREA\")[\"April\"].sum().sort_values(ascending=False)\n",
    "e=df.groupby(\"AREA\")[\"May\"].sum().sort_values(ascending=False)\n",
    "df[\"June\"]=pd.to_numeric(df[\"June\"], errors=\"coerce\")\n",
    "f=df.groupby(\"AREA\")[\"June\"].sum().sort_values(ascending=False)"
   ]
  },
  {
   "cell_type": "code",
   "execution_count": 67,
   "metadata": {},
   "outputs": [
    {
     "data": {
      "image/png": "[encoded data removed]",
      "text/plain": [
       "<Figure size 640x480 with 6 Axes>"
      ]
     },
     "metadata": {},
     "output_type": "display_data"
    },
    {
     "data": {
      "image/png": "[encoded data removed]",
      "text/plain": [
       "<Figure size 640x480 with 6 Axes>"
      ]
     },
     "metadata": {},
     "output_type": "display_data"
    }
   ],
   "source": [
    "plt.subplot(2,3,1)\n",
    "plt.plot(a, color='y', marker='3', ms=2, lw=2, mec='k', mfc='b')\n",
    "font1={'family':'serif', 'color':'b', 'size':'15'}\n",
    "font2={'family':'serif', 'color':'b'}\n",
    "font3={'family':'serif', 'color':'b'}\n",
    "plt.title('Januray Sales', fontdict=font1, size=12)\n",
    "plt.xlabel('Area', fontdict=font2)\n",
    "plt.ylabel('January', fontdict=font3)\n",
    "\n",
    "plt.subplot(2,3,2)\n",
    "plt.plot(b, color='y', marker='3', ms=2, lw=2, mec='k', mfc='b')\n",
    "font1={'family':'serif', 'color':'b', 'size':'15'}\n",
    "font2={'family':'serif', 'color':'b'}\n",
    "font3={'family':'serif', 'color':'b'}\n",
    "plt.title('February Sales', fontdict=font1, size=12)\n",
    "plt.xlabel('Area', fontdict=font2)\n",
    "plt.ylabel('February', fontdict=font3)\n",
    "\n",
    "plt.subplot(2,3,3)\n",
    "plt.plot(c, color='y', marker='3', ms=2, lw=2, mec='k', mfc='b')\n",
    "font1={'family':'serif', 'color':'b', 'size':'15'}\n",
    "font2={'family':'serif', 'color':'b'}\n",
    "font3={'family':'serif', 'color':'b'}\n",
    "plt.title('March Sales', fontdict=font1, size=12)\n",
    "plt.xlabel('Area', fontdict=font2)\n",
    "plt.ylabel('March', fontdict=font3)\n",
    "\n",
    "plt.subplot(2,3,4)\n",
    "plt.plot(d, color='y', marker='3', ms=2, lw=2, mec='k', mfc='b')\n",
    "font1={'family':'serif', 'color':'b', 'size':'15'}\n",
    "font2={'family':'serif', 'color':'b'}\n",
    "font3={'family':'serif', 'color':'b'}\n",
    "plt.title('April Sales', fontdict=font1, size=12)\n",
    "plt.xlabel('Area', fontdict=font2)\n",
    "plt.ylabel('April', fontdict=font3)\n",
    "\n",
    "plt.subplot(2,3,5)\n",
    "plt.plot(e, color='y', marker='3', ms=2, lw=2, mec='k', mfc='b')\n",
    "font1={'family':'serif', 'color':'b', 'size':'15'}\n",
    "font2={'family':'serif', 'color':'b'}\n",
    "font3={'family':'serif', 'color':'b'}\n",
    "plt.title('May Sales', fontdict=font1, size=12)\n",
    "plt.xlabel('Area', fontdict=font2)\n",
    "plt.ylabel('May', fontdict=font3)\n",
    "\n",
    "plt.subplot(2,3,6)\n",
    "plt.plot(f, color='y', marker='3', ms=2, lw=2, mec='k', mfc='b')\n",
    "font1={'family':'serif', 'color':'b', 'size':'15'}\n",
    "font2={'family':'serif', 'color':'b'}\n",
    "font3={'family':'serif', 'color':'b'}\n",
    "plt.title('June Sales', fontdict=font1, size=12)\n",
    "plt.xlabel('Area', fontdict=font2)\n",
    "plt.ylabel('June', fontdict=font3)\n",
    "plt.suptitle(\"Overall Market Trends\", size=20)\n",
    "plt.show()\n",
    "\n",
    "a=df.groupby(\"PRODUCT\")[\"January\"].sum().sort_values(ascending=False)\n",
    "b=df.groupby(\"PRODUCT\")[\"February\"].sum().sort_values(ascending=False)\n",
    "c=df.groupby(\"PRODUCT\")[\"March\"].sum().sort_values(ascending=False)\n",
    "d=df.groupby(\"PRODUCT\")[\"April\"].sum().sort_values(ascending=False)\n",
    "e=df.groupby(\"PRODUCT\")[\"May\"].sum().sort_values(ascending=False)\n",
    "df[\"June\"]=pd.to_numeric(df[\"June\"], errors=\"coerce\")\n",
    "f=df.groupby(\"PRODUCT\")[\"June\"].sum().sort_values(ascending=False)\n",
    "# print(a,b,c,d,e,f)\n",
    "\n",
    "plt.subplot(2,3,1)\n",
    "plt.plot(a, color='y', marker='3', ms=2, lw=2, mec='k', mfc='b')\n",
    "font1={'family':'serif', 'color':'b', 'size':'15'}\n",
    "font2={'family':'serif', 'color':'b'}\n",
    "font3={'family':'serif', 'color':'b'}\n",
    "plt.title('Product Sales Report', fontdict=font1, size=12)\n",
    "plt.xlabel('PRODUCT', fontdict=font2)\n",
    "plt.ylabel('January', fontdict=font3)\n",
    "\n",
    "plt.subplot(2,3,2)\n",
    "plt.plot(b, color='y', marker='3', ms=2, lw=2, mec='k', mfc='b')\n",
    "font1={'family':'serif', 'color':'b', 'size':'15'}\n",
    "font2={'family':'serif', 'color':'b'}\n",
    "font3={'family':'serif', 'color':'b'}\n",
    "plt.title('Product Sales Report', fontdict=font1, size=12)\n",
    "plt.xlabel('PRODUCT', fontdict=font2)\n",
    "plt.ylabel('February', fontdict=font3)\n",
    "\n",
    "plt.subplot(2,3,3)\n",
    "plt.plot(c, color='y', marker='3', ms=2, lw=2, mec='k', mfc='b')\n",
    "font1={'family':'serif', 'color':'b', 'size':'15'}\n",
    "font2={'family':'serif', 'color':'b'}\n",
    "font3={'family':'serif', 'color':'b'}\n",
    "plt.title('Product Sales Report', fontdict=font1, size=12)\n",
    "plt.xlabel('PRODUCT', fontdict=font2)\n",
    "plt.ylabel('March', fontdict=font3)\n",
    "\n",
    "plt.subplot(2,3,4)\n",
    "plt.plot(d, color='y', marker='3', ms=2, lw=2, mec='k', mfc='b')\n",
    "font1={'family':'serif', 'color':'b', 'size':'15'}\n",
    "font2={'family':'serif', 'color':'b'}\n",
    "font3={'family':'serif', 'color':'b'}\n",
    "plt.title('Product Sales Report', fontdict=font1, size=12)\n",
    "plt.xlabel('PRODUCT', fontdict=font2)\n",
    "plt.ylabel('April', fontdict=font3)\n",
    "\n",
    "plt.subplot(2,3,5)\n",
    "plt.plot(e, color='y', marker='3', ms=2, lw=2, mec='k', mfc='b')\n",
    "font1={'family':'serif', 'color':'b', 'size':'15'}\n",
    "font2={'family':'serif', 'color':'b'}\n",
    "font3={'family':'serif', 'color':'b'}\n",
    "plt.title('Product Sales Report', fontdict=font1, size=12)\n",
    "plt.xlabel('PRODUCT', fontdict=font2)\n",
    "plt.ylabel('May', fontdict=font3)\n",
    "\n",
    "plt.subplot(2,3,6)\n",
    "plt.plot(f, color='y', marker='3', ms=2, lw=2, mec='k', mfc='b')\n",
    "font1={'family':'serif', 'color':'b', 'size':'15'}\n",
    "font2={'family':'serif', 'color':'b'}\n",
    "font3={'family':'serif', 'color':'b'}\n",
    "plt.title('Product Sales Report', fontdict=font1, size=12)\n",
    "plt.xlabel('PRODUCTION', fontdict=font2)\n",
    "plt.ylabel('PRODUCT', fontdict=font3)\n",
    "plt.suptitle(\"OVERALL TRENDS IN PRODUCT\", size=20)\n",
    "plt.show()\n"
   ]
  },
  {
   "cell_type": "code",
   "execution_count": null,
   "metadata": {},
   "outputs": [],
   "source": [
    "correlation_matrix= df.corr(numeric_only=True)\n"
   ]
  },
  {
   "cell_type": "code",
   "execution_count": 69,
   "metadata": {},
   "outputs": [
    {
     "name": "stdout",
     "output_type": "stream",
     "text": [
      "           January  February     March     April       May      June\n",
      "January   1.000000  0.953180  0.920422  0.976628  0.976628  0.976628\n",
      "February  0.953180  1.000000  0.966306  0.938318  0.938318  0.938318\n",
      "March     0.920422  0.966306  1.000000  0.888862  0.888862  0.888862\n",
      "April     0.976628  0.938318  0.888862  1.000000  1.000000  1.000000\n",
      "May       0.976628  0.938318  0.888862  1.000000  1.000000  1.000000\n",
      "June      0.976628  0.938318  0.888862  1.000000  1.000000  1.000000\n"
     ]
    }
   ],
   "source": [
    "print(correlation_matrix)"
   ]
  },
  {
   "cell_type": "code",
   "execution_count": 80,
   "metadata": {},
   "outputs": [
    {
     "data": {
      "image/png": "[encoded data removed]",
      "text/plain": [
       "<Figure size 1200x1000 with 2 Axes>"
      ]
     },
     "metadata": {},
     "output_type": "display_data"
    }
   ],
   "source": [
    "# CORRELATION MATRIX HEATMAP(MATPLOTLIB)\n",
    "plt.figure(figsize=(12,10))\n",
    "plt.imshow(correlation_matrix, cmap='coolwarm',interpolation='nearest')\n",
    "plt.colorbar()\n",
    "plt.xticks(range(len(correlation_matrix)),correlation_matrix.columns, rotation=80)\n",
    "plt.yticks(range(len(correlation_matrix)),correlation_matrix.columns, rotation=80)\n",
    "plt.title(\"Correlation Matrix Heatmap(Matplotlib)\")\n",
    "plt.tight_layout()\n",
    "plt.show()\n",
    "\n"
   ]
  },
  {
   "cell_type": "code",
   "execution_count": 71,
   "metadata": {},
   "outputs": [
    {
     "data": {
      "text/plain": [
       "<matplotlib.legend.Legend at 0x2197b97c990>"
      ]
     },
     "execution_count": 71,
     "metadata": {},
     "output_type": "execute_result"
    },
    {
     "data": {
      "image/png": "[encoded data removed]",
      "text/plain": [
       "<Figure size 640x480 with 1 Axes>"
      ]
     },
     "metadata": {},
     "output_type": "display_data"
    }
   ],
   "source": [
    "a=df.groupby('PRODUCT')[\"January\"].sum().sort_values(ascending=False)\n",
    "x=pd.array(a)\n",
    "thelabel=pd.array(df[\"PRODUCT\"])\n",
    "myset=set(thelabel)\n",
    "newlabel=myset\n",
    "font1={'family':'serif','color':'blue','size':20}\n",
    "font2={'family':'serif','color':'blue','size':20}\n",
    "mycolor=pd.array(['yellow','pink','orange','blue','red','indigo'])\n",
    "plt.subplot(2,3,1)\n",
    "plt.pie(x, labels=newlabel,colors=mycolor, autopct='%1.1f%%',labeldistance=1.3,pctdistance=0.6)\n",
    "plt.figlegend()"
   ]
  },
  {
   "cell_type": "code",
   "execution_count": 72,
   "metadata": {},
   "outputs": [
    {
     "data": {
      "text/plain": [
       "<matplotlib.legend.Legend at 0x2197ba9d7d0>"
      ]
     },
     "execution_count": 72,
     "metadata": {},
     "output_type": "execute_result"
    },
    {
     "data": {
      "image/png": "[encoded data removed]",
      "text/plain": [
       "<Figure size 640x480 with 1 Axes>"
      ]
     },
     "metadata": {},
     "output_type": "display_data"
    }
   ],
   "source": [
    "b=df.groupby(\"PRODUCT\")[\"February\"].sum().sort_values(ascending=True)\n",
    "x=pd.array(b)\n",
    "thelabel=pd.array(df[\"PRODUCT\"])\n",
    "myset=set(thelabel)\n",
    "newlabel=myset\n",
    "font1={'family':'serif','color':'blue','size':20}\n",
    "font2={'family':'serif','color':'blue','size':20}\n",
    "mycolor=pd.array(['yellow','pink','orange','blue','red','indigo'])\n",
    "plt.subplot(2,3,2)\n",
    "plt.pie(x, labels=newlabel, colors=mycolor, autopct='%1.1f%%',labeldistance=1.3, pctdistance=0.6)\n",
    "plt.figlegend()"
   ]
  },
  {
   "cell_type": "code",
   "execution_count": 73,
   "metadata": {},
   "outputs": [
    {
     "data": {
      "text/plain": [
       "<matplotlib.legend.Legend at 0x2197b92b750>"
      ]
     },
     "execution_count": 73,
     "metadata": {},
     "output_type": "execute_result"
    },
    {
     "data": {
      "image/png": "[encoded data removed]",
      "text/plain": [
       "<Figure size 640x480 with 1 Axes>"
      ]
     },
     "metadata": {},
     "output_type": "display_data"
    }
   ],
   "source": [
    "c=df.groupby(\"PRODUCT\")[\"March\"].sum().sort_values(ascending=True)\n",
    "x=pd.array(c)\n",
    "thelabel=pd.array(df[\"PRODUCT\"])\n",
    "myset=set(thelabel)\n",
    "newlabel=myset\n",
    "font1={'family':'serif','color':'blue','size':20}\n",
    "font2={'family':'serif','color':'blue','size':20}\n",
    "mycolor=pd.array(['yellow','pink','orange','blue','red','indigo'])\n",
    "plt.subplot(2,3,3)\n",
    "plt.pie(x, labels=newlabel, colors=mycolor, autopct='%1.1f%%',labeldistance=1.3, pctdistance=0.6)\n",
    "plt.figlegend()"
   ]
  },
  {
   "cell_type": "code",
   "execution_count": 74,
   "metadata": {},
   "outputs": [
    {
     "data": {
      "text/plain": [
       "<matplotlib.legend.Legend at 0x2197ba1c990>"
      ]
     },
     "execution_count": 74,
     "metadata": {},
     "output_type": "execute_result"
    },
    {
     "data": {
      "image/png": "[encoded data removed]",
      "text/plain": [
       "<Figure size 640x480 with 1 Axes>"
      ]
     },
     "metadata": {},
     "output_type": "display_data"
    }
   ],
   "source": [
    "d=df.groupby(\"PRODUCT\")[\"April\"].sum().sort_values(ascending=True)\n",
    "x=pd.array(d)\n",
    "thelabel=pd.array(df[\"PRODUCT\"])\n",
    "myset=set(thelabel)\n",
    "newlabel=myset\n",
    "font1={'family':'serif','color':'blue','size':20}\n",
    "font2={'family':'serif','color':'blue','size':20}\n",
    "mycolor=pd.array(['yellow','pink','orange','blue','red','indigo'])\n",
    "plt.subplot(2,3,4)\n",
    "plt.pie(x, labels=newlabel, colors=mycolor, autopct='%1.1f%%',labeldistance=1.3, pctdistance=0.6)\n",
    "plt.figlegend()\n"
   ]
  },
  {
   "cell_type": "code",
   "execution_count": 75,
   "metadata": {},
   "outputs": [
    {
     "data": {
      "text/plain": [
       "<matplotlib.legend.Legend at 0x2197ba1d0d0>"
      ]
     },
     "execution_count": 75,
     "metadata": {},
     "output_type": "execute_result"
    },
    {
     "data": {
      "image/png": "[encoded data removed]",
      "text/plain": [
       "<Figure size 640x480 with 1 Axes>"
      ]
     },
     "metadata": {},
     "output_type": "display_data"
    }
   ],
   "source": [
    "e=df.groupby(\"PRODUCT\")[\"May\"].sum().sort_values(ascending=True)\n",
    "x=pd.array(e)\n",
    "thelabel=pd.array(df[\"PRODUCT\"])\n",
    "myset=set(thelabel)\n",
    "newlabel=myset\n",
    "font1={'family':'serif','color':'blue','size':20}\n",
    "font2={'family':'serif','color':'blue','size':20}\n",
    "mycolor=pd.array(['yellow','pink','orange','blue','red','indigo'])\n",
    "plt.subplot(2,3,5)\n",
    "plt.pie(x, labels=newlabel, colors=mycolor, autopct='%1.1f%%',labeldistance=1.3, pctdistance=0.6)\n",
    "plt.figlegend()"
   ]
  },
  {
   "cell_type": "code",
   "execution_count": 76,
   "metadata": {},
   "outputs": [
    {
     "data": {
      "image/png": "[encoded data removed]",
      "text/plain": [
       "<Figure size 640x480 with 1 Axes>"
      ]
     },
     "metadata": {},
     "output_type": "display_data"
    }
   ],
   "source": [
    "f=df.groupby(\"PRODUCT\")[\"January\"].sum().sort_values(ascending=True)\n",
    "x=pd.array(f)\n",
    "thelabel=pd.array(df[\"PRODUCT\"])\n",
    "myset=set(thelabel)\n",
    "newlabel=myset\n",
    "font1={'family':'serif','color':'blue','size':20}\n",
    "font2={'family':'serif','color':'blue','size':20}\n",
    "mycolor=pd.array(['yellow','pink','orange','blue','red','indigo'])\n",
    "plt.subplot(2,3,6)\n",
    "plt.pie(x, labels=newlabel, colors=mycolor, autopct='%1.1f%%',labeldistance=1.3, pctdistance=0.6)\n",
    "plt.figlegend()\n",
    "plt.show()\n"
   ]
  },
  {
   "cell_type": "code",
   "execution_count": 77,
   "metadata": {},
   "outputs": [
    {
     "data": {
      "application/vnd.plotly.v1+json": {
       "config": {
        "plotlyServerURL": "https://plot.ly"
       },
       "data": [
        {
         "bingroup": "x",
         "hovertemplate": "PRODUCT=%{x}<br>count=%{y}<extra></extra>",
         "legendgroup": "",
         "marker": {
          "color": "#636efa",
          "pattern": {
           "shape": ""
          }
         },
         "name": "",
         "orientation": "v",
         "showlegend": false,
         "type": "histogram",
         "x": [
          "Sanitizer",
          "Perfume",
          "Perfume",
          "Sanitizer",
          "Spray",
          "Airfreshner",
          "Sanitizer",
          "Spray",
          "Airfreshner",
          "Sanitizer",
          "Airfreshner",
          "Spray",
          "Airfreshner",
          "Sanitizer",
          "Airfreshner",
          "Sanitizer",
          "Spray",
          "Airfreshner",
          "Sanitizer",
          "Spray",
          "Spray",
          "Airfreshner",
          "Sanitizer",
          "Splash",
          "Spray",
          "Spray",
          "Rollon",
          "Airfreshner",
          "Splash",
          "Spray",
          "Spray",
          "Airfreshner",
          "Airfreshner",
          "Airfreshner",
          "Sanitizer",
          "Rollon",
          "Airfreshner",
          "Spray",
          "Spray",
          "Spray",
          "Airfreshner",
          "Sanitizer",
          "Airfreshner",
          "Sanitizer",
          "Airfreshner",
          "Splash",
          "Spray",
          "Sanitizer",
          "Spray",
          "Airfreshner",
          "Sanitizer",
          "Airfreshner",
          "Spray",
          "Airfreshner",
          "Sanitizer",
          "Airfreshner",
          "Sanitizer",
          "Spray",
          "Sanitizer",
          "Perfume",
          "Perfume",
          "Sanitizer",
          "Rollon",
          "Airfreshner",
          "Splash",
          "Spray",
          "Spray",
          "Airfreshner",
          "Sanitizer"
         ],
         "xaxis": "x",
         "yaxis": "y"
        }
       ],
       "layout": {
        "barmode": "relative",
        "legend": {
         "tracegroupgap": 0
        },
        "template": {
         "data": {
          "bar": [
           {
            "error_x": {
             "color": "#2a3f5f"
            },
            "error_y": {
             "color": "#2a3f5f"
            },
            "marker": {
             "line": {
              "color": "#E5ECF6",
              "width": 0.5
             },
             "pattern": {
              "fillmode": "overlay",
              "size": 10,
              "solidity": 0.2
             }
            },
            "type": "bar"
           }
          ],
          "barpolar": [
           {
            "marker": {
             "line": {
              "color": "#E5ECF6",
              "width": 0.5
             },
             "pattern": {
              "fillmode": "overlay",
              "size": 10,
              "solidity": 0.2
             }
            },
            "type": "barpolar"
           }
          ],
          "carpet": [
           {
            "aaxis": {
             "endlinecolor": "#2a3f5f",
             "gridcolor": "white",
             "linecolor": "white",
             "minorgridcolor": "white",
             "startlinecolor": "#2a3f5f"
            },
            "baxis": {
             "endlinecolor": "#2a3f5f",
             "gridcolor": "white",
             "linecolor": "white",
             "minorgridcolor": "white",
             "startlinecolor": "#2a3f5f"
            },
            "type": "carpet"
           }
          ],
          "choropleth": [
           {
            "colorbar": {
             "outlinewidth": 0,
             "ticks": ""
            },
            "type": "choropleth"
           }
          ],
          "contour": [
           {
            "colorbar": {
             "outlinewidth": 0,
             "ticks": ""
            },
            "colorscale": [
             [
              0,
              "#0d0887"
             ],
             [
              0.1111111111111111,
              "#46039f"
             ],
             [
              0.2222222222222222,
              "#7201a8"
             ],
             [
              0.3333333333333333,
              "#9c179e"
             ],
             [
              0.4444444444444444,
              "#bd3786"
             ],
             [
              0.5555555555555556,
              "#d8576b"
             ],
             [
              0.6666666666666666,
              "#ed7953"
             ],
             [
              0.7777777777777778,
              "#fb9f3a"
             ],
             [
              0.8888888888888888,
              "#fdca26"
             ],
             [
              1,
              "#f0f921"
             ]
            ],
            "type": "contour"
           }
          ],
          "contourcarpet": [
           {
            "colorbar": {
             "outlinewidth": 0,
             "ticks": ""
            },
            "type": "contourcarpet"
           }
          ],
          "heatmap": [
           {
            "colorbar": {
             "outlinewidth": 0,
             "ticks": ""
            },
            "colorscale": [
             [
              0,
              "#0d0887"
             ],
             [
              0.1111111111111111,
              "#46039f"
             ],
             [
              0.2222222222222222,
              "#7201a8"
             ],
             [
              0.3333333333333333,
              "#9c179e"
             ],
             [
              0.4444444444444444,
              "#bd3786"
             ],
             [
              0.5555555555555556,
              "#d8576b"
             ],
             [
              0.6666666666666666,
              "#ed7953"
             ],
             [
              0.7777777777777778,
              "#fb9f3a"
             ],
             [
              0.8888888888888888,
              "#fdca26"
             ],
             [
              1,
              "#f0f921"
             ]
            ],
            "type": "heatmap"
           }
          ],
          "histogram": [
           {
            "marker": {
             "pattern": {
              "fillmode": "overlay",
              "size": 10,
              "solidity": 0.2
             }
            },
            "type": "histogram"
           }
          ],
          "histogram2d": [
           {
            "colorbar": {
             "outlinewidth": 0,
             "ticks": ""
            },
            "colorscale": [
             [
              0,
              "#0d0887"
             ],
             [
              0.1111111111111111,
              "#46039f"
             ],
             [
              0.2222222222222222,
              "#7201a8"
             ],
             [
              0.3333333333333333,
              "#9c179e"
             ],
             [
              0.4444444444444444,
              "#bd3786"
             ],
             [
              0.5555555555555556,
              "#d8576b"
             ],
             [
              0.6666666666666666,
              "#ed7953"
             ],
             [
              0.7777777777777778,
              "#fb9f3a"
             ],
             [
              0.8888888888888888,
              "#fdca26"
             ],
             [
              1,
              "#f0f921"
             ]
            ],
            "type": "histogram2d"
           }
          ],
          "histogram2dcontour": [
           {
            "colorbar": {
             "outlinewidth": 0,
             "ticks": ""
            },
            "colorscale": [
             [
              0,
              "#0d0887"
             ],
             [
              0.1111111111111111,
              "#46039f"
             ],
             [
              0.2222222222222222,
              "#7201a8"
             ],
             [
              0.3333333333333333,
              "#9c179e"
             ],
             [
              0.4444444444444444,
              "#bd3786"
             ],
             [
              0.5555555555555556,
              "#d8576b"
             ],
             [
              0.6666666666666666,
              "#ed7953"
             ],
             [
              0.7777777777777778,
              "#fb9f3a"
             ],
             [
              0.8888888888888888,
              "#fdca26"
             ],
             [
              1,
              "#f0f921"
             ]
            ],
            "type": "histogram2dcontour"
           }
          ],
          "mesh3d": [
           {
            "colorbar": {
             "outlinewidth": 0,
             "ticks": ""
            },
            "type": "mesh3d"
           }
          ],
          "parcoords": [
           {
            "line": {
             "colorbar": {
              "outlinewidth": 0,
              "ticks": ""
             }
            },
            "type": "parcoords"
           }
          ],
          "pie": [
           {
            "automargin": true,
            "type": "pie"
           }
          ],
          "scatter": [
           {
            "fillpattern": {
             "fillmode": "overlay",
             "size": 10,
             "solidity": 0.2
            },
            "type": "scatter"
           }
          ],
          "scatter3d": [
           {
            "line": {
             "colorbar": {
              "outlinewidth": 0,
              "ticks": ""
             }
            },
            "marker": {
             "colorbar": {
              "outlinewidth": 0,
              "ticks": ""
             }
            },
            "type": "scatter3d"
           }
          ],
          "scattercarpet": [
           {
            "marker": {
             "colorbar": {
              "outlinewidth": 0,
              "ticks": ""
             }
            },
            "type": "scattercarpet"
           }
          ],
          "scattergeo": [
           {
            "marker": {
             "colorbar": {
              "outlinewidth": 0,
              "ticks": ""
             }
            },
            "type": "scattergeo"
           }
          ],
          "scattergl": [
           {
            "marker": {
             "colorbar": {
              "outlinewidth": 0,
              "ticks": ""
             }
            },
            "type": "scattergl"
           }
          ],
          "scattermap": [
           {
            "marker": {
             "colorbar": {
              "outlinewidth": 0,
              "ticks": ""
             }
            },
            "type": "scattermap"
           }
          ],
          "scattermapbox": [
           {
            "marker": {
             "colorbar": {
              "outlinewidth": 0,
              "ticks": ""
             }
            },
            "type": "scattermapbox"
           }
          ],
          "scatterpolar": [
           {
            "marker": {
             "colorbar": {
              "outlinewidth": 0,
              "ticks": ""
             }
            },
            "type": "scatterpolar"
           }
          ],
          "scatterpolargl": [
           {
            "marker": {
             "colorbar": {
              "outlinewidth": 0,
              "ticks": ""
             }
            },
            "type": "scatterpolargl"
           }
          ],
          "scatterternary": [
           {
            "marker": {
             "colorbar": {
              "outlinewidth": 0,
              "ticks": ""
             }
            },
            "type": "scatterternary"
           }
          ],
          "surface": [
           {
            "colorbar": {
             "outlinewidth": 0,
             "ticks": ""
            },
            "colorscale": [
             [
              0,
              "#0d0887"
             ],
             [
              0.1111111111111111,
              "#46039f"
             ],
             [
              0.2222222222222222,
              "#7201a8"
             ],
             [
              0.3333333333333333,
              "#9c179e"
             ],
             [
              0.4444444444444444,
              "#bd3786"
             ],
             [
              0.5555555555555556,
              "#d8576b"
             ],
             [
              0.6666666666666666,
              "#ed7953"
             ],
             [
              0.7777777777777778,
              "#fb9f3a"
             ],
             [
              0.8888888888888888,
              "#fdca26"
             ],
             [
              1,
              "#f0f921"
             ]
            ],
            "type": "surface"
           }
          ],
          "table": [
           {
            "cells": {
             "fill": {
              "color": "#EBF0F8"
             },
             "line": {
              "color": "white"
             }
            },
            "header": {
             "fill": {
              "color": "#C8D4E3"
             },
             "line": {
              "color": "white"
             }
            },
            "type": "table"
           }
          ]
         },
         "layout": {
          "annotationdefaults": {
           "arrowcolor": "#2a3f5f",
           "arrowhead": 0,
           "arrowwidth": 1
          },
          "autotypenumbers": "strict",
          "coloraxis": {
           "colorbar": {
            "outlinewidth": 0,
            "ticks": ""
           }
          },
          "colorscale": {
           "diverging": [
            [
             0,
             "#8e0152"
            ],
            [
             0.1,
             "#c51b7d"
            ],
            [
             0.2,
             "#de77ae"
            ],
            [
             0.3,
             "#f1b6da"
            ],
            [
             0.4,
             "#fde0ef"
            ],
            [
             0.5,
             "#f7f7f7"
            ],
            [
             0.6,
             "#e6f5d0"
            ],
            [
             0.7,
             "#b8e186"
            ],
            [
             0.8,
             "#7fbc41"
            ],
            [
             0.9,
             "#4d9221"
            ],
            [
             1,
             "#276419"
            ]
           ],
           "sequential": [
            [
             0,
             "#0d0887"
            ],
            [
             0.1111111111111111,
             "#46039f"
            ],
            [
             0.2222222222222222,
             "#7201a8"
            ],
            [
             0.3333333333333333,
             "#9c179e"
            ],
            [
             0.4444444444444444,
             "#bd3786"
            ],
            [
             0.5555555555555556,
             "#d8576b"
            ],
            [
             0.6666666666666666,
             "#ed7953"
            ],
            [
             0.7777777777777778,
             "#fb9f3a"
            ],
            [
             0.8888888888888888,
             "#fdca26"
            ],
            [
             1,
             "#f0f921"
            ]
           ],
           "sequentialminus": [
            [
             0,
             "#0d0887"
            ],
            [
             0.1111111111111111,
             "#46039f"
            ],
            [
             0.2222222222222222,
             "#7201a8"
            ],
            [
             0.3333333333333333,
             "#9c179e"
            ],
            [
             0.4444444444444444,
             "#bd3786"
            ],
            [
             0.5555555555555556,
             "#d8576b"
            ],
            [
             0.6666666666666666,
             "#ed7953"
            ],
            [
             0.7777777777777778,
             "#fb9f3a"
            ],
            [
             0.8888888888888888,
             "#fdca26"
            ],
            [
             1,
             "#f0f921"
            ]
           ]
          },
          "colorway": [
           "#636efa",
           "#EF553B",
           "#00cc96",
           "#ab63fa",
           "#FFA15A",
           "#19d3f3",
           "#FF6692",
           "#B6E880",
           "#FF97FF",
           "#FECB52"
          ],
          "font": {
           "color": "#2a3f5f"
          },
          "geo": {
           "bgcolor": "white",
           "lakecolor": "white",
           "landcolor": "#E5ECF6",
           "showlakes": true,
           "showland": true,
           "subunitcolor": "white"
          },
          "hoverlabel": {
           "align": "left"
          },
          "hovermode": "closest",
          "mapbox": {
           "style": "light"
          },
          "paper_bgcolor": "white",
          "plot_bgcolor": "#E5ECF6",
          "polar": {
           "angularaxis": {
            "gridcolor": "white",
            "linecolor": "white",
            "ticks": ""
           },
           "bgcolor": "#E5ECF6",
           "radialaxis": {
            "gridcolor": "white",
            "linecolor": "white",
            "ticks": ""
           }
          },
          "scene": {
           "xaxis": {
            "backgroundcolor": "#E5ECF6",
            "gridcolor": "white",
            "gridwidth": 2,
            "linecolor": "white",
            "showbackground": true,
            "ticks": "",
            "zerolinecolor": "white"
           },
           "yaxis": {
            "backgroundcolor": "#E5ECF6",
            "gridcolor": "white",
            "gridwidth": 2,
            "linecolor": "white",
            "showbackground": true,
            "ticks": "",
            "zerolinecolor": "white"
           },
           "zaxis": {
            "backgroundcolor": "#E5ECF6",
            "gridcolor": "white",
            "gridwidth": 2,
            "linecolor": "white",
            "showbackground": true,
            "ticks": "",
            "zerolinecolor": "white"
           }
          },
          "shapedefaults": {
           "line": {
            "color": "#2a3f5f"
           }
          },
          "ternary": {
           "aaxis": {
            "gridcolor": "white",
            "linecolor": "white",
            "ticks": ""
           },
           "baxis": {
            "gridcolor": "white",
            "linecolor": "white",
            "ticks": ""
           },
           "bgcolor": "#E5ECF6",
           "caxis": {
            "gridcolor": "white",
            "linecolor": "white",
            "ticks": ""
           }
          },
          "title": {
           "x": 0.05
          },
          "xaxis": {
           "automargin": true,
           "gridcolor": "white",
           "linecolor": "white",
           "ticks": "",
           "title": {
            "standoff": 15
           },
           "zerolinecolor": "white",
           "zerolinewidth": 2
          },
          "yaxis": {
           "automargin": true,
           "gridcolor": "white",
           "linecolor": "white",
           "ticks": "",
           "title": {
            "standoff": 15
           },
           "zerolinecolor": "white",
           "zerolinewidth": 2
          }
         }
        },
        "title": {
         "text": "Distribution of Products(Plotly)"
        },
        "xaxis": {
         "anchor": "y",
         "domain": [
          0,
          1
         ],
         "title": {
          "text": "PRODUCT"
         }
        },
        "yaxis": {
         "anchor": "x",
         "domain": [
          0,
          1
         ],
         "title": {
          "text": "count"
         }
        }
       }
      }
     },
     "metadata": {},
     "output_type": "display_data"
    }
   ],
   "source": [
    "# HISTOGRAM (PLOTLY)\n",
    "fig_hist = px.histogram(df, x='PRODUCT', title='Distribution of Products(Plotly)')\n",
    "fig_hist.show()\n"
   ]
  },
  {
   "cell_type": "code",
   "execution_count": 78,
   "metadata": {},
   "outputs": [
    {
     "data": {
      "application/vnd.plotly.v1+json": {
       "config": {
        "plotlyServerURL": "https://plot.ly"
       },
       "data": [
        {
         "bingroup": "x",
         "hovertemplate": "PRODUCT=%{x}<br>count=%{y}<extra></extra>",
         "legendgroup": "",
         "marker": {
          "color": "#636efa",
          "pattern": {
           "shape": ""
          }
         },
         "name": "",
         "orientation": "v",
         "showlegend": false,
         "type": "histogram",
         "x": [
          "Sanitizer",
          "Perfume",
          "Perfume",
          "Sanitizer",
          "Spray",
          "Airfreshner",
          "Sanitizer",
          "Spray",
          "Airfreshner",
          "Sanitizer",
          "Airfreshner",
          "Spray",
          "Airfreshner",
          "Sanitizer",
          "Airfreshner",
          "Sanitizer",
          "Spray",
          "Airfreshner",
          "Sanitizer",
          "Spray",
          "Spray",
          "Airfreshner",
          "Sanitizer",
          "Splash",
          "Spray",
          "Spray",
          "Rollon",
          "Airfreshner",
          "Splash",
          "Spray",
          "Spray",
          "Airfreshner",
          "Airfreshner",
          "Airfreshner",
          "Sanitizer",
          "Rollon",
          "Airfreshner",
          "Spray",
          "Spray",
          "Spray",
          "Airfreshner",
          "Sanitizer",
          "Airfreshner",
          "Sanitizer",
          "Airfreshner",
          "Splash",
          "Spray",
          "Sanitizer",
          "Spray",
          "Airfreshner",
          "Sanitizer",
          "Airfreshner",
          "Spray",
          "Airfreshner",
          "Sanitizer",
          "Airfreshner",
          "Sanitizer",
          "Spray",
          "Sanitizer",
          "Perfume",
          "Perfume",
          "Sanitizer",
          "Rollon",
          "Airfreshner",
          "Splash",
          "Spray",
          "Spray",
          "Airfreshner",
          "Sanitizer"
         ],
         "xaxis": "x",
         "yaxis": "y"
        },
        {
         "hovertemplate": "PRODUCT=%{x}<extra></extra>",
         "legendgroup": "",
         "marker": {
          "color": "#636efa"
         },
         "name": "",
         "notched": true,
         "showlegend": false,
         "type": "box",
         "x": [
          "Sanitizer",
          "Perfume",
          "Perfume",
          "Sanitizer",
          "Spray",
          "Airfreshner",
          "Sanitizer",
          "Spray",
          "Airfreshner",
          "Sanitizer",
          "Airfreshner",
          "Spray",
          "Airfreshner",
          "Sanitizer",
          "Airfreshner",
          "Sanitizer",
          "Spray",
          "Airfreshner",
          "Sanitizer",
          "Spray",
          "Spray",
          "Airfreshner",
          "Sanitizer",
          "Splash",
          "Spray",
          "Spray",
          "Rollon",
          "Airfreshner",
          "Splash",
          "Spray",
          "Spray",
          "Airfreshner",
          "Airfreshner",
          "Airfreshner",
          "Sanitizer",
          "Rollon",
          "Airfreshner",
          "Spray",
          "Spray",
          "Spray",
          "Airfreshner",
          "Sanitizer",
          "Airfreshner",
          "Sanitizer",
          "Airfreshner",
          "Splash",
          "Spray",
          "Sanitizer",
          "Spray",
          "Airfreshner",
          "Sanitizer",
          "Airfreshner",
          "Spray",
          "Airfreshner",
          "Sanitizer",
          "Airfreshner",
          "Sanitizer",
          "Spray",
          "Sanitizer",
          "Perfume",
          "Perfume",
          "Sanitizer",
          "Rollon",
          "Airfreshner",
          "Splash",
          "Spray",
          "Spray",
          "Airfreshner",
          "Sanitizer"
         ],
         "xaxis": "x2",
         "yaxis": "y2"
        }
       ],
       "layout": {
        "barmode": "relative",
        "legend": {
         "tracegroupgap": 0
        },
        "template": {
         "data": {
          "bar": [
           {
            "error_x": {
             "color": "#2a3f5f"
            },
            "error_y": {
             "color": "#2a3f5f"
            },
            "marker": {
             "line": {
              "color": "#E5ECF6",
              "width": 0.5
             },
             "pattern": {
              "fillmode": "overlay",
              "size": 10,
              "solidity": 0.2
             }
            },
            "type": "bar"
           }
          ],
          "barpolar": [
           {
            "marker": {
             "line": {
              "color": "#E5ECF6",
              "width": 0.5
             },
             "pattern": {
              "fillmode": "overlay",
              "size": 10,
              "solidity": 0.2
             }
            },
            "type": "barpolar"
           }
          ],
          "carpet": [
           {
            "aaxis": {
             "endlinecolor": "#2a3f5f",
             "gridcolor": "white",
             "linecolor": "white",
             "minorgridcolor": "white",
             "startlinecolor": "#2a3f5f"
            },
            "baxis": {
             "endlinecolor": "#2a3f5f",
             "gridcolor": "white",
             "linecolor": "white",
             "minorgridcolor": "white",
             "startlinecolor": "#2a3f5f"
            },
            "type": "carpet"
           }
          ],
          "choropleth": [
           {
            "colorbar": {
             "outlinewidth": 0,
             "ticks": ""
            },
            "type": "choropleth"
           }
          ],
          "contour": [
           {
            "colorbar": {
             "outlinewidth": 0,
             "ticks": ""
            },
            "colorscale": [
             [
              0,
              "#0d0887"
             ],
             [
              0.1111111111111111,
              "#46039f"
             ],
             [
              0.2222222222222222,
              "#7201a8"
             ],
             [
              0.3333333333333333,
              "#9c179e"
             ],
             [
              0.4444444444444444,
              "#bd3786"
             ],
             [
              0.5555555555555556,
              "#d8576b"
             ],
             [
              0.6666666666666666,
              "#ed7953"
             ],
             [
              0.7777777777777778,
              "#fb9f3a"
             ],
             [
              0.8888888888888888,
              "#fdca26"
             ],
             [
              1,
              "#f0f921"
             ]
            ],
            "type": "contour"
           }
          ],
          "contourcarpet": [
           {
            "colorbar": {
             "outlinewidth": 0,
             "ticks": ""
            },
            "type": "contourcarpet"
           }
          ],
          "heatmap": [
           {
            "colorbar": {
             "outlinewidth": 0,
             "ticks": ""
            },
            "colorscale": [
             [
              0,
              "#0d0887"
             ],
             [
              0.1111111111111111,
              "#46039f"
             ],
             [
              0.2222222222222222,
              "#7201a8"
             ],
             [
              0.3333333333333333,
              "#9c179e"
             ],
             [
              0.4444444444444444,
              "#bd3786"
             ],
             [
              0.5555555555555556,
              "#d8576b"
             ],
             [
              0.6666666666666666,
              "#ed7953"
             ],
             [
              0.7777777777777778,
              "#fb9f3a"
             ],
             [
              0.8888888888888888,
              "#fdca26"
             ],
             [
              1,
              "#f0f921"
             ]
            ],
            "type": "heatmap"
           }
          ],
          "histogram": [
           {
            "marker": {
             "pattern": {
              "fillmode": "overlay",
              "size": 10,
              "solidity": 0.2
             }
            },
            "type": "histogram"
           }
          ],
          "histogram2d": [
           {
            "colorbar": {
             "outlinewidth": 0,
             "ticks": ""
            },
            "colorscale": [
             [
              0,
              "#0d0887"
             ],
             [
              0.1111111111111111,
              "#46039f"
             ],
             [
              0.2222222222222222,
              "#7201a8"
             ],
             [
              0.3333333333333333,
              "#9c179e"
             ],
             [
              0.4444444444444444,
              "#bd3786"
             ],
             [
              0.5555555555555556,
              "#d8576b"
             ],
             [
              0.6666666666666666,
              "#ed7953"
             ],
             [
              0.7777777777777778,
              "#fb9f3a"
             ],
             [
              0.8888888888888888,
              "#fdca26"
             ],
             [
              1,
              "#f0f921"
             ]
            ],
            "type": "histogram2d"
           }
          ],
          "histogram2dcontour": [
           {
            "colorbar": {
             "outlinewidth": 0,
             "ticks": ""
            },
            "colorscale": [
             [
              0,
              "#0d0887"
             ],
             [
              0.1111111111111111,
              "#46039f"
             ],
             [
              0.2222222222222222,
              "#7201a8"
             ],
             [
              0.3333333333333333,
              "#9c179e"
             ],
             [
              0.4444444444444444,
              "#bd3786"
             ],
             [
              0.5555555555555556,
              "#d8576b"
             ],
             [
              0.6666666666666666,
              "#ed7953"
             ],
             [
              0.7777777777777778,
              "#fb9f3a"
             ],
             [
              0.8888888888888888,
              "#fdca26"
             ],
             [
              1,
              "#f0f921"
             ]
            ],
            "type": "histogram2dcontour"
           }
          ],
          "mesh3d": [
           {
            "colorbar": {
             "outlinewidth": 0,
             "ticks": ""
            },
            "type": "mesh3d"
           }
          ],
          "parcoords": [
           {
            "line": {
             "colorbar": {
              "outlinewidth": 0,
              "ticks": ""
             }
            },
            "type": "parcoords"
           }
          ],
          "pie": [
           {
            "automargin": true,
            "type": "pie"
           }
          ],
          "scatter": [
           {
            "fillpattern": {
             "fillmode": "overlay",
             "size": 10,
             "solidity": 0.2
            },
            "type": "scatter"
           }
          ],
          "scatter3d": [
           {
            "line": {
             "colorbar": {
              "outlinewidth": 0,
              "ticks": ""
             }
            },
            "marker": {
             "colorbar": {
              "outlinewidth": 0,
              "ticks": ""
             }
            },
            "type": "scatter3d"
           }
          ],
          "scattercarpet": [
           {
            "marker": {
             "colorbar": {
              "outlinewidth": 0,
              "ticks": ""
             }
            },
            "type": "scattercarpet"
           }
          ],
          "scattergeo": [
           {
            "marker": {
             "colorbar": {
              "outlinewidth": 0,
              "ticks": ""
             }
            },
            "type": "scattergeo"
           }
          ],
          "scattergl": [
           {
            "marker": {
             "colorbar": {
              "outlinewidth": 0,
              "ticks": ""
             }
            },
            "type": "scattergl"
           }
          ],
          "scattermap": [
           {
            "marker": {
             "colorbar": {
              "outlinewidth": 0,
              "ticks": ""
             }
            },
            "type": "scattermap"
           }
          ],
          "scattermapbox": [
           {
            "marker": {
             "colorbar": {
              "outlinewidth": 0,
              "ticks": ""
             }
            },
            "type": "scattermapbox"
           }
          ],
          "scatterpolar": [
           {
            "marker": {
             "colorbar": {
              "outlinewidth": 0,
              "ticks": ""
             }
            },
            "type": "scatterpolar"
           }
          ],
          "scatterpolargl": [
           {
            "marker": {
             "colorbar": {
              "outlinewidth": 0,
              "ticks": ""
             }
            },
            "type": "scatterpolargl"
           }
          ],
          "scatterternary": [
           {
            "marker": {
             "colorbar": {
              "outlinewidth": 0,
              "ticks": ""
             }
            },
            "type": "scatterternary"
           }
          ],
          "surface": [
           {
            "colorbar": {
             "outlinewidth": 0,
             "ticks": ""
            },
            "colorscale": [
             [
              0,
              "#0d0887"
             ],
             [
              0.1111111111111111,
              "#46039f"
             ],
             [
              0.2222222222222222,
              "#7201a8"
             ],
             [
              0.3333333333333333,
              "#9c179e"
             ],
             [
              0.4444444444444444,
              "#bd3786"
             ],
             [
              0.5555555555555556,
              "#d8576b"
             ],
             [
              0.6666666666666666,
              "#ed7953"
             ],
             [
              0.7777777777777778,
              "#fb9f3a"
             ],
             [
              0.8888888888888888,
              "#fdca26"
             ],
             [
              1,
              "#f0f921"
             ]
            ],
            "type": "surface"
           }
          ],
          "table": [
           {
            "cells": {
             "fill": {
              "color": "#EBF0F8"
             },
             "line": {
              "color": "white"
             }
            },
            "header": {
             "fill": {
              "color": "#C8D4E3"
             },
             "line": {
              "color": "white"
             }
            },
            "type": "table"
           }
          ]
         },
         "layout": {
          "annotationdefaults": {
           "arrowcolor": "#2a3f5f",
           "arrowhead": 0,
           "arrowwidth": 1
          },
          "autotypenumbers": "strict",
          "coloraxis": {
           "colorbar": {
            "outlinewidth": 0,
            "ticks": ""
           }
          },
          "colorscale": {
           "diverging": [
            [
             0,
             "#8e0152"
            ],
            [
             0.1,
             "#c51b7d"
            ],
            [
             0.2,
             "#de77ae"
            ],
            [
             0.3,
             "#f1b6da"
            ],
            [
             0.4,
             "#fde0ef"
            ],
            [
             0.5,
             "#f7f7f7"
            ],
            [
             0.6,
             "#e6f5d0"
            ],
            [
             0.7,
             "#b8e186"
            ],
            [
             0.8,
             "#7fbc41"
            ],
            [
             0.9,
             "#4d9221"
            ],
            [
             1,
             "#276419"
            ]
           ],
           "sequential": [
            [
             0,
             "#0d0887"
            ],
            [
             0.1111111111111111,
             "#46039f"
            ],
            [
             0.2222222222222222,
             "#7201a8"
            ],
            [
             0.3333333333333333,
             "#9c179e"
            ],
            [
             0.4444444444444444,
             "#bd3786"
            ],
            [
             0.5555555555555556,
             "#d8576b"
            ],
            [
             0.6666666666666666,
             "#ed7953"
            ],
            [
             0.7777777777777778,
             "#fb9f3a"
            ],
            [
             0.8888888888888888,
             "#fdca26"
            ],
            [
             1,
             "#f0f921"
            ]
           ],
           "sequentialminus": [
            [
             0,
             "#0d0887"
            ],
            [
             0.1111111111111111,
             "#46039f"
            ],
            [
             0.2222222222222222,
             "#7201a8"
            ],
            [
             0.3333333333333333,
             "#9c179e"
            ],
            [
             0.4444444444444444,
             "#bd3786"
            ],
            [
             0.5555555555555556,
             "#d8576b"
            ],
            [
             0.6666666666666666,
             "#ed7953"
            ],
            [
             0.7777777777777778,
             "#fb9f3a"
            ],
            [
             0.8888888888888888,
             "#fdca26"
            ],
            [
             1,
             "#f0f921"
            ]
           ]
          },
          "colorway": [
           "#636efa",
           "#EF553B",
           "#00cc96",
           "#ab63fa",
           "#FFA15A",
           "#19d3f3",
           "#FF6692",
           "#B6E880",
           "#FF97FF",
           "#FECB52"
          ],
          "font": {
           "color": "#2a3f5f"
          },
          "geo": {
           "bgcolor": "white",
           "lakecolor": "white",
           "landcolor": "#E5ECF6",
           "showlakes": true,
           "showland": true,
           "subunitcolor": "white"
          },
          "hoverlabel": {
           "align": "left"
          },
          "hovermode": "closest",
          "mapbox": {
           "style": "light"
          },
          "paper_bgcolor": "white",
          "plot_bgcolor": "#E5ECF6",
          "polar": {
           "angularaxis": {
            "gridcolor": "white",
            "linecolor": "white",
            "ticks": ""
           },
           "bgcolor": "#E5ECF6",
           "radialaxis": {
            "gridcolor": "white",
            "linecolor": "white",
            "ticks": ""
           }
          },
          "scene": {
           "xaxis": {
            "backgroundcolor": "#E5ECF6",
            "gridcolor": "white",
            "gridwidth": 2,
            "linecolor": "white",
            "showbackground": true,
            "ticks": "",
            "zerolinecolor": "white"
           },
           "yaxis": {
            "backgroundcolor": "#E5ECF6",
            "gridcolor": "white",
            "gridwidth": 2,
            "linecolor": "white",
            "showbackground": true,
            "ticks": "",
            "zerolinecolor": "white"
           },
           "zaxis": {
            "backgroundcolor": "#E5ECF6",
            "gridcolor": "white",
            "gridwidth": 2,
            "linecolor": "white",
            "showbackground": true,
            "ticks": "",
            "zerolinecolor": "white"
           }
          },
          "shapedefaults": {
           "line": {
            "color": "#2a3f5f"
           }
          },
          "ternary": {
           "aaxis": {
            "gridcolor": "white",
            "linecolor": "white",
            "ticks": ""
           },
           "baxis": {
            "gridcolor": "white",
            "linecolor": "white",
            "ticks": ""
           },
           "bgcolor": "#E5ECF6",
           "caxis": {
            "gridcolor": "white",
            "linecolor": "white",
            "ticks": ""
           }
          },
          "title": {
           "x": 0.05
          },
          "xaxis": {
           "automargin": true,
           "gridcolor": "white",
           "linecolor": "white",
           "ticks": "",
           "title": {
            "standoff": 15
           },
           "zerolinecolor": "white",
           "zerolinewidth": 2
          },
          "yaxis": {
           "automargin": true,
           "gridcolor": "white",
           "linecolor": "white",
           "ticks": "",
           "title": {
            "standoff": 15
           },
           "zerolinecolor": "white",
           "zerolinewidth": 2
          }
         }
        },
        "title": {
         "text": "Distribution of Products(Plotly)"
        },
        "xaxis": {
         "anchor": "y",
         "domain": [
          0,
          1
         ],
         "title": {
          "text": "PRODUCT"
         }
        },
        "xaxis2": {
         "anchor": "y2",
         "domain": [
          0,
          1
         ],
         "matches": "x",
         "showgrid": true,
         "showticklabels": false
        },
        "yaxis": {
         "anchor": "x",
         "domain": [
          0,
          0.8316
         ],
         "title": {
          "text": "count"
         }
        },
        "yaxis2": {
         "anchor": "x2",
         "domain": [
          0.8416,
          1
         ],
         "matches": "y2",
         "showgrid": false,
         "showline": false,
         "showticklabels": false,
         "ticks": ""
        }
       }
      }
     },
     "metadata": {},
     "output_type": "display_data"
    }
   ],
   "source": [
    "# HISTOGRAM (PLOTLY)\n",
    "fig_hist = px.histogram(df, x='PRODUCT', title='Distribution of Products(Plotly)',marginal='box')\n",
    "fig_hist.show()"
   ]
  },
  {
   "cell_type": "code",
   "execution_count": null,
   "metadata": {},
   "outputs": [],
   "source": []
  }
 ],
 "metadata": {
  "kernelspec": {
   "display_name": "Python 3",
   "language": "python",
   "name": "python3"
  },
  "language_info": {
   "codemirror_mode": {
    "name": "ipython",
    "version": 3
   },
   "file_extension": ".py",
   "mimetype": "text/x-python",
   "name": "python",
   "nbconvert_exporter": "python",
   "pygments_lexer": "ipython3",
   "version": "3.11.9"
  }
 },
 "nbformat": 4,
 "nbformat_minor": 2
}
